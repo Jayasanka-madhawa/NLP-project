{
 "cells": [
  {
   "cell_type": "code",
   "execution_count": 32,
   "id": "389756f5",
   "metadata": {},
   "outputs": [],
   "source": [
    "#import usefull libraries\n",
    "import numpy as np\n",
    "#numpy is an open source library for working on multidimensional arrays\n",
    "import glob\n",
    "#glob is used to read files of the speciied type\n",
    "import os"
   ]
  },
  {
   "cell_type": "code",
   "execution_count": 33,
   "id": "e678755d",
   "metadata": {},
   "outputs": [],
   "source": [
    "from nltk.tokenize import sent_tokenize,word_tokenize\n",
    "from nltk.stem import PorterStemmer"
   ]
  },
  {
   "cell_type": "code",
   "execution_count": 34,
   "id": "45c22191",
   "metadata": {},
   "outputs": [],
   "source": [
    "#join sentences\n",
    "\n",
    "def joining(doc1,doc2):\n",
    "    doc1=doc1.split()\n",
    "    for i in range(0,doc1.count(' \\n')):\n",
    "        doc1.remove(' \\n')\n",
    "    for i in range(0,doc1.count('\\n')):\n",
    "        doc11.remove('\\n')\n",
    "    doc1=' '.join(doc1)\n",
    "    \n",
    "    \n",
    "    doc2=doc2.split()\n",
    "    for i in range(0,doc2.count(' \\n')):\n",
    "        doc2.remove(' \\n')\n",
    "    for i in range(0,doc2.count('\\n')):\n",
    "        doc2.remove('\\n')\n",
    "    doc2=' '.join(doc2)\n",
    "    return doc1,doc2\n",
    "    "
   ]
  },
  {
   "cell_type": "code",
   "execution_count": 35,
   "id": "5fc88db3",
   "metadata": {},
   "outputs": [],
   "source": [
    "def stemSentence(sentence):\n",
    "    porter= PorterStemmer()\n",
    "    token_words=word_tokenize(sentence)\n",
    "    stem_sentence=[]\n",
    "    for word in token_words:\n",
    "        stem_sentence.append(porter.stem(word))\n",
    "    return \" \".join(stem_sentence)"
   ]
  },
  {
   "cell_type": "code",
   "execution_count": 49,
   "id": "14fe2706",
   "metadata": {},
   "outputs": [],
   "source": [
    "def remove_common_words_steming(main,generic):\n",
    "    main=word_tokenize(main)\n",
    "    resultwords=[word for word in main if word.lower() not in generic]\n",
    "    result=' '.join(resultwords)\n",
    "    result=stemSentence(result)\n",
    "    return result"
   ]
  },
  {
   "cell_type": "code",
   "execution_count": 50,
   "id": "6669877f",
   "metadata": {},
   "outputs": [],
   "source": [
    "common_words=['do','she','they','we','are','is','the','and','a','an','in','as','in','of',',','.']"
   ]
  },
  {
   "cell_type": "code",
   "execution_count": 51,
   "id": "51b86fc0",
   "metadata": {},
   "outputs": [
    {
     "name": "stdout",
     "output_type": "stream",
     "text": [
      "posix\n"
     ]
    }
   ],
   "source": [
    "print(os.name)"
   ]
  },
  {
   "cell_type": "code",
   "execution_count": 52,
   "id": "e71aaa1b",
   "metadata": {},
   "outputs": [],
   "source": [
    "doc1 = \"Software is engineering is the discipline o\"\n",
    "doc2= \"is engineering\"\n"
   ]
  },
  {
   "cell_type": "code",
   "execution_count": 53,
   "id": "89f9dc0a",
   "metadata": {},
   "outputs": [],
   "source": [
    "def levenshtein(seq1, seq2):\n",
    "    size_x = len(seq1) + 1\n",
    "    size_y = len(seq2) + 1\n",
    " \n",
    "  # defining a zero matrix of size of first string * second string\n",
    "    matrix = np.zeros ((size_x, size_y)) \n",
    " \n",
    "    for x in range(size_x):\n",
    "        matrix [x, 0] = x # row aray with elements of x\n",
    "    for y in range(size_y):\n",
    "        matrix [0, y] = y # column array with elements of y\n",
    "    for x in range(1, size_x):\n",
    "        for y in range(1, size_y):\n",
    "            if seq1[x-1] == seq2[y-1]: # if the alphabets at the postion is same\n",
    "                matrix [x,y] = min(\n",
    "                    matrix[x-1, y] + 1,\n",
    "                    matrix[x-1, y-1],\n",
    "                    matrix[x, y-1] + 1\n",
    "                )\n",
    " \n",
    "            else:         # if the alphabbets at the position are different\n",
    "                matrix [x,y] = min(\n",
    "                    matrix[x-1,y] + 1,\n",
    "                    matrix[x-1,y-1] + 1,\n",
    "                    matrix[x,y-1] + 1\n",
    "                )\n",
    " \n",
    "    # returning the levenshtein distance i.e last element of the matrix\n",
    "    return (matrix[size_x - 1, size_y - 1])\n",
    " "
   ]
  },
  {
   "cell_type": "code",
   "execution_count": 54,
   "id": "f877503e",
   "metadata": {},
   "outputs": [
    {
     "data": {
      "text/plain": [
       "29.0"
      ]
     },
     "execution_count": 54,
     "metadata": {},
     "output_type": "execute_result"
    }
   ],
   "source": [
    "levenshtein(doc1, doc2)"
   ]
  },
  {
   "cell_type": "code",
   "execution_count": 55,
   "id": "b9ff3cc7",
   "metadata": {},
   "outputs": [
    {
     "name": "stdout",
     "output_type": "stream",
     "text": [
      "Enter the percentage of plagiarism allowed\n",
      "10\n"
     ]
    }
   ],
   "source": [
    "plag = int(input(\"Enter the percentage of plagiarism allowed\\n\"))"
   ]
  },
  {
   "cell_type": "code",
   "execution_count": 56,
   "id": "a9258b26",
   "metadata": {},
   "outputs": [],
   "source": [
    "k=0\n",
    "#path1 = input(\"Enter the path of the folder to scan:\\n\")\n",
    "os.chdir('/media/jayasanka/New Volume/cs/AI/NLP project/plagarism/Plagiarism Checker/textfiles')"
   ]
  },
  {
   "cell_type": "code",
   "execution_count": 16,
   "id": "730f9b5b",
   "metadata": {},
   "outputs": [
    {
     "name": "stdout",
     "output_type": "stream",
     "text": [
      "Enter your name: blank\n",
      ":\n"
     ]
    }
   ],
   "source": [
    "#enter new answer with name\n",
    "stuName=str(input(\"Enter your name: \"))\n",
    "answer=str(input(\":\"))\n",
    "#save in a text file\n",
    "f =open(stuName+'.txt',\"w+\")\n",
    "f.write(answer)\n",
    "f.close() "
   ]
  },
  {
   "cell_type": "code",
   "execution_count": 57,
   "id": "8a0cf60b",
   "metadata": {},
   "outputs": [],
   "source": [
    "stuName='jayasanka'"
   ]
  },
  {
   "cell_type": "code",
   "execution_count": 58,
   "id": "e7a91a93",
   "metadata": {},
   "outputs": [
    {
     "name": "stdout",
     "output_type": "stream",
     "text": [
      "\n",
      "The text files available are :\n",
      "\n",
      "['blank.txt', 'copy.txt', 'fullcopy.txt', 'jaya2.txt', 'jayasanka.txt', 'stu1.txt', 'stu2.txt', 'stu3.txt', 'w.txt']\n",
      "\n",
      "\n"
     ]
    }
   ],
   "source": [
    "newAnsfile=stuName+'.txt'\n",
    "#opening all text files within the folder and stores them in an array \n",
    "myFiles = glob.glob('*.txt') \n",
    "print(\"\\nThe text files available are :\\n\")\n",
    "print(myFiles)\n",
    "print(\"\\n\")\n"
   ]
  },
  {
   "cell_type": "code",
   "execution_count": 59,
   "id": "1939318a",
   "metadata": {},
   "outputs": [
    {
     "name": "stdout",
     "output_type": "stream",
     "text": [
      "softwarengindisciplindesigncreatmaintainsoftwarbyapplitechnologpracticfromcomputsciencprojectmanagenginapplicdomaininterfacdesigndigitassetmanagotherfield\n"
     ]
    }
   ],
   "source": [
    "newAns=0\n",
    "for x in range(len(myFiles)):\n",
    "    if myFiles[x]==newAnsfile:\n",
    "        newAns=x\n",
    "            \n",
    "with open(myFiles[newAns], 'r') as file:\n",
    "    str1 = file.read()\n",
    "    str1=remove_common_words_steming(str1,common_words)\n",
    "    data = str1.replace('\\n', '')\n",
    "    str1=data.replace(' ', '')\n",
    "print(str1)"
   ]
  },
  {
   "cell_type": "code",
   "execution_count": 60,
   "id": "b3c7fa4b",
   "metadata": {},
   "outputs": [
    {
     "name": "stdout",
     "output_type": "stream",
     "text": [
      "13.0 165\n",
      "For the files copy.txt and jayasanka.txt presentage of plagiarism is  92.12 %  \n",
      "\n",
      "0.0 154\n",
      "For the files fullcopy.txt and jayasanka.txt presentage of plagiarism is  100.0 %  \n",
      "\n",
      "0.0 154\n",
      "For the files jaya2.txt and jayasanka.txt presentage of plagiarism is  100.0 %  \n",
      "\n",
      "144.0 180\n",
      "For the files stu1.txt and jayasanka.txt presentage of plagiarism is  20.0 %  \n",
      "\n",
      "146.0 181\n",
      "For the files stu2.txt and jayasanka.txt presentage of plagiarism is  19.340000000000003 %  \n",
      "\n",
      "122.0 154\n",
      "For the files stu3.txt and jayasanka.txt presentage of plagiarism is  20.78 %  \n",
      "\n"
     ]
    }
   ],
   "source": [
    "for i in range(len(myFiles)):\n",
    "    with open(myFiles[i], 'r') as file:\n",
    "        str2 = file.read()\n",
    "        str2=remove_common_words_steming(str2,common_words)\n",
    "        data = str2.replace('\\n', '')\n",
    "        str2=data.replace(' ', '')\n",
    "    \n",
    "    \n",
    "    if(len(str1)>len(str2)):\n",
    "          length=len(str1)\n",
    "    else:\n",
    "          length=len(str2)\n",
    "            \n",
    "    if (myFiles[i] != myFiles[newAns]):\n",
    "        #print(str1)\n",
    "        #print(str2)\n",
    "        n = 100-round((levenshtein(str1,str2)/length)*100,2)\n",
    "        if(n>plag):\n",
    "            print(levenshtein(str1,str2),length)\n",
    "            print(\"For the files\",myFiles[i],\"and\",myFiles[newAns],\"presentage of plagiarism is \",n,\"%  \\n\") \n",
    "            k = k+1\n",
    "\n",
    "if k == 0:\n",
    "    print(\"No documents are plagiarised\")"
   ]
  }
 ],
 "metadata": {
  "kernelspec": {
   "display_name": "Python 3",
   "language": "python",
   "name": "python3"
  },
  "language_info": {
   "codemirror_mode": {
    "name": "ipython",
    "version": 3
   },
   "file_extension": ".py",
   "mimetype": "text/x-python",
   "name": "python",
   "nbconvert_exporter": "python",
   "pygments_lexer": "ipython3",
   "version": "3.8.5"
  }
 },
 "nbformat": 4,
 "nbformat_minor": 5
}
