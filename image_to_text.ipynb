{
 "cells": [
  {
   "cell_type": "code",
   "execution_count": 1,
   "id": "3d186076",
   "metadata": {},
   "outputs": [
    {
     "name": "stdout",
     "output_type": "stream",
     "text": [
      "Requirement already satisfied: torch in /home/jayasanka/.local/lib/python3.8/site-packages (1.8.1)\n",
      "Requirement already satisfied: torchvision in /home/jayasanka/.local/lib/python3.8/site-packages (0.9.1)\n",
      "Requirement already satisfied: torchaudio in /home/jayasanka/.local/lib/python3.8/site-packages (0.8.1)\n",
      "Requirement already satisfied: typing-extensions in /home/jayasanka/.local/lib/python3.8/site-packages (from torch) (3.7.4.3)\n",
      "Requirement already satisfied: numpy in /home/jayasanka/.local/lib/python3.8/site-packages (from torch) (1.20.3)\n",
      "Requirement already satisfied: pillow>=4.1.1 in /usr/lib/python3/dist-packages (from torchvision) (7.0.0)\n",
      "Requirement already satisfied: easyocr in /home/jayasanka/.local/lib/python3.8/site-packages (1.3.2)\n",
      "Requirement already satisfied: PyYAML in /usr/lib/python3/dist-packages (from easyocr) (5.3.1)\n",
      "Requirement already satisfied: torchvision>=0.5 in /home/jayasanka/.local/lib/python3.8/site-packages (from easyocr) (0.9.1)\n",
      "Requirement already satisfied: torch in /home/jayasanka/.local/lib/python3.8/site-packages (from easyocr) (1.8.1)\n",
      "Requirement already satisfied: scipy in /home/jayasanka/.local/lib/python3.8/site-packages (from easyocr) (1.6.3)\n",
      "Requirement already satisfied: python-bidi in /home/jayasanka/.local/lib/python3.8/site-packages (from easyocr) (0.4.2)\n",
      "Requirement already satisfied: opencv-python in /home/jayasanka/.local/lib/python3.8/site-packages (from easyocr) (4.5.2.52)\n",
      "Requirement already satisfied: Pillow in /usr/lib/python3/dist-packages (from easyocr) (7.0.0)\n",
      "Requirement already satisfied: scikit-image in /home/jayasanka/.local/lib/python3.8/site-packages (from easyocr) (0.18.1)\n",
      "Requirement already satisfied: numpy in /home/jayasanka/.local/lib/python3.8/site-packages (from easyocr) (1.20.3)\n",
      "Requirement already satisfied: typing-extensions in /home/jayasanka/.local/lib/python3.8/site-packages (from torch->easyocr) (3.7.4.3)\n",
      "Requirement already satisfied: six in /home/jayasanka/.local/lib/python3.8/site-packages (from python-bidi->easyocr) (1.15.0)\n",
      "Requirement already satisfied: imageio>=2.3.0 in /home/jayasanka/.local/lib/python3.8/site-packages (from scikit-image->easyocr) (2.9.0)\n",
      "Requirement already satisfied: tifffile>=2019.7.26 in /home/jayasanka/.local/lib/python3.8/site-packages (from scikit-image->easyocr) (2021.4.8)\n",
      "Requirement already satisfied: networkx>=2.0 in /home/jayasanka/.local/lib/python3.8/site-packages (from scikit-image->easyocr) (2.5.1)\n",
      "Requirement already satisfied: matplotlib!=3.0.0,>=2.0.0 in /home/jayasanka/.local/lib/python3.8/site-packages (from scikit-image->easyocr) (3.4.2)\n",
      "Requirement already satisfied: PyWavelets>=1.1.1 in /home/jayasanka/.local/lib/python3.8/site-packages (from scikit-image->easyocr) (1.1.1)\n",
      "Requirement already satisfied: decorator<5,>=4.3 in /home/jayasanka/.local/lib/python3.8/site-packages (from networkx>=2.0->scikit-image->easyocr) (4.4.2)\n",
      "Requirement already satisfied: python-dateutil>=2.7 in /home/jayasanka/.local/lib/python3.8/site-packages (from matplotlib!=3.0.0,>=2.0.0->scikit-image->easyocr) (2.8.1)\n",
      "Requirement already satisfied: cycler>=0.10 in /home/jayasanka/.local/lib/python3.8/site-packages (from matplotlib!=3.0.0,>=2.0.0->scikit-image->easyocr) (0.10.0)\n",
      "Requirement already satisfied: pyparsing>=2.2.1 in /usr/lib/python3/dist-packages (from matplotlib!=3.0.0,>=2.0.0->scikit-image->easyocr) (2.4.6)\n",
      "Requirement already satisfied: kiwisolver>=1.0.1 in /home/jayasanka/.local/lib/python3.8/site-packages (from matplotlib!=3.0.0,>=2.0.0->scikit-image->easyocr) (1.3.1)\n"
     ]
    }
   ],
   "source": [
    "# Install pytorch\n",
    "!pip3 install torch torchvision torchaudio\n",
    "# Install easyocr \n",
    "!pip3 install easyocr"
   ]
  },
  {
   "cell_type": "code",
   "execution_count": 1,
   "id": "b6035ab1",
   "metadata": {},
   "outputs": [
    {
     "name": "stderr",
     "output_type": "stream",
     "text": [
      "/home/jayasanka/.local/lib/python3.8/site-packages/skimage/io/manage_plugins.py:23: UserWarning: Your installed pillow version is < 7.1.0. Several security issues (CVE-2020-11538, CVE-2020-10379, CVE-2020-10994, CVE-2020-10177) have been fixed in pillow 7.1.0 or higher. We recommend to upgrade this library.\n",
      "  from .collection import imread_collection_wrapper\n"
     ]
    }
   ],
   "source": [
    "import easyocr\n",
    "import cv2\n",
    "from matplotlib import pyplot as plt\n",
    "import numpy as np"
   ]
  },
  {
   "cell_type": "code",
   "execution_count": 5,
   "id": "446c76a5",
   "metadata": {},
   "outputs": [],
   "source": [
    "IMAGE_PATH = 'informal-letter.png'"
   ]
  },
  {
   "cell_type": "code",
   "execution_count": 6,
   "id": "3db457d4",
   "metadata": {},
   "outputs": [
    {
     "name": "stderr",
     "output_type": "stream",
     "text": [
      "CUDA not available - defaulting to CPU. Note: This module is much faster with a GPU.\n"
     ]
    },
    {
     "data": {
      "text/plain": [
       "[([[11, 15], [93, 15], [93, 35], [11, 35]], 'AG-482/12', 0.9602694871271539),\n",
       " ([[13, 39], [121, 39], [121, 59], [13, 59]],\n",
       "  'Shalimar Bagh',\n",
       "  0.7796444790912299),\n",
       " ([[15, 63], [77, 63], [77, 79], [15, 79]], 'Delhi-88', 0.999604714491601),\n",
       " ([[11, 105], [149, 105], [149, 125], [11, 125]],\n",
       "  '2Oth January 2020',\n",
       "  0.505045767319349),\n",
       " ([[15, 149], [129, 149], [129, 167], [15, 167]],\n",
       "  'Dear Himanshu',\n",
       "  0.9997842973290592),\n",
       " ([[11, 171], [115, 171], [115, 191], [11, 191]],\n",
       "  'How are you?',\n",
       "  0.7499519173785889),\n",
       " ([[123, 171], [623, 171], [623, 191], [123, 191]],\n",
       "  'hope you are in the pink of your health when this reaches you: Mother',\n",
       "  0.740365285851036),\n",
       " ([[13, 193], [501, 193], [501, 213], [13, 213]],\n",
       "  'and father are doing well these days: How are uncle and aunt there?',\n",
       "  0.761719007062835),\n",
       " ([[511, 193], [613, 193], [613, 213], [511, 213]],\n",
       "  'hope they are',\n",
       "  0.9984367548233103),\n",
       " ([[11, 215], [285, 215], [285, 235], [11, 235]],\n",
       "  'sailing the boat of good health as well:',\n",
       "  0.7784446853230477),\n",
       " ([[13, 259], [275, 259], [275, 279], [13, 279]],\n",
       "  'As summer breaks are approaching;',\n",
       "  0.7660590941993187),\n",
       " ([[285, 263], [309, 263], [309, 277], [285, 277]], 'am', 0.9999956167305686),\n",
       " ([[309, 259], [613, 259], [613, 279], [309, 279]],\n",
       "  'hoping that we can go for a summer camp',\n",
       "  0.6029229554831128),\n",
       " ([[12, 278], [616, 278], [616, 302], [12, 302]],\n",
       "  'together: The camp is in Rishikesh and many of my friends will be accompanying me',\n",
       "  0.7926555413272623),\n",
       " ([[13, 303], [411, 303], [411, 323], [13, 323]],\n",
       "  'as well: The duration of the camp is 2 nights and 3 days',\n",
       "  0.5959274324311944),\n",
       " ([[443, 303], [573, 303], [573, 321], [443, 321]],\n",
       "  'it includes a lot of',\n",
       "  0.7122900650150317),\n",
       " ([[13, 325], [449, 325], [449, 346], [13, 346]],\n",
       "  'activities like bungee jumping; river rafting, river crossing, etc.',\n",
       "  0.4357086759204685),\n",
       " ([[455, 325], [619, 325], [619, 345], [455, 345]],\n",
       "  'There will be DJ nights',\n",
       "  0.9888716101383095),\n",
       " ([[11, 347], [155, 347], [155, 367], [11, 367]],\n",
       "  'along with a bonfire_',\n",
       "  0.8900909430921324),\n",
       " ([[161, 347], [619, 347], [619, 367], [161, 367]],\n",
       "  'We will also go for sightseeing in the city: To add a cherry on the',\n",
       "  0.6325113129619532),\n",
       " ([[13, 371], [51, 371], [51, 387], [13, 387]], 'cake', 0.9996192455291748),\n",
       " ([[55, 369], [251, 369], [251, 389], [55, 389]],\n",
       "  'we will also go for trekking!',\n",
       "  0.8308853180744055),\n",
       " ([[21, 413], [369, 413], [369, 434], [21, 434]],\n",
       "  'hope you are equally excited about this camp as',\n",
       "  0.924858628420814),\n",
       " ([[377, 417], [405, 417], [405, 431], [377, 431]], 'am:', 0.650019310241557),\n",
       " ([[407, 413], [613, 413], [613, 433], [407, 433]],\n",
       "  'Looking forward to spending',\n",
       "  0.5809146758992082),\n",
       " ([[11, 435], [623, 435], [623, 456], [11, 456]],\n",
       "  'the summer vacation with you: Eagerly waiting for your reply: Pay my regards to uncle',\n",
       "  0.7555014449702526),\n",
       " ([[12, 454], [264, 454], [264, 478], [12, 478]],\n",
       "  'and aunt and give my love to Neha_',\n",
       "  0.8602049969348387),\n",
       " ([[12, 498], [158, 498], [158, 522], [12, 522]],\n",
       "  'Yours Affectionately',\n",
       "  0.8968093489749568),\n",
       " ([[13, 523], [61, 523], [61, 541], [13, 541]], 'Aakriti', 0.9999942327144635),\n",
       " ([[408.78057847830064, 304.4147520217908],\n",
       "   [442.61988424308606, 300.82698037569634],\n",
       "   [444.21942152169936, 320.5852479782092],\n",
       "   [410.38011575691394, 324.17301962430366]],\n",
       "  'and',\n",
       "  0.9999885749731856)]"
      ]
     },
     "execution_count": 6,
     "metadata": {},
     "output_type": "execute_result"
    }
   ],
   "source": [
    "reader = easyocr.Reader(['en'])\n",
    "result = reader.readtext(IMAGE_PATH)\n",
    "result"
   ]
  },
  {
   "cell_type": "code",
   "execution_count": 7,
   "id": "5b42440c",
   "metadata": {},
   "outputs": [
    {
     "name": "stdout",
     "output_type": "stream",
     "text": [
      "AG-482/12 Shalimar Bagh Delhi-88 2Oth January 2020 Dear Himanshu How are you? hope you are in the pink of your health when this reaches you: Mother and father are doing well these days: How are uncle and aunt there? hope they are sailing the boat of good health as well: As summer breaks are approaching; am hoping that we can go for a summer camp together: The camp is in Rishikesh and many of my friends will be accompanying me as well: The duration of the camp is 2 nights and 3 days it includes a lot of activities like bungee jumping; river rafting, river crossing, etc. There will be DJ nights along with a bonfire_ We will also go for sightseeing in the city: To add a cherry on the cake we will also go for trekking! hope you are equally excited about this camp as am: Looking forward to spending the summer vacation with you: Eagerly waiting for your reply: Pay my regards to uncle and aunt and give my love to Neha_ Yours Affectionately Aakriti and \n"
     ]
    }
   ],
   "source": [
    "full_text=''\n",
    "for line in result: \n",
    "    full_text+= line[1]+' '\n",
    "print(full_text)"
   ]
  },
  {
   "cell_type": "code",
   "execution_count": null,
   "id": "1cf5834f",
   "metadata": {},
   "outputs": [],
   "source": []
  }
 ],
 "metadata": {
  "kernelspec": {
   "display_name": "Python 3",
   "language": "python",
   "name": "python3"
  },
  "language_info": {
   "codemirror_mode": {
    "name": "ipython",
    "version": 3
   },
   "file_extension": ".py",
   "mimetype": "text/x-python",
   "name": "python",
   "nbconvert_exporter": "python",
   "pygments_lexer": "ipython3",
   "version": "3.8.5"
  }
 },
 "nbformat": 4,
 "nbformat_minor": 5
}
