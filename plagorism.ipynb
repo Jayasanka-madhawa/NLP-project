{
 "cells": [
  {
   "cell_type": "code",
   "execution_count": 22,
   "id": "389756f5",
   "metadata": {},
   "outputs": [],
   "source": [
    "#import usefull libraries\n",
    "import numpy as np\n",
    "#numpy is an open source library for working on multidimensional arrays\n",
    "import glob\n",
    "#glob is used to read files of the speciied type\n",
    "import os"
   ]
  },
  {
   "cell_type": "code",
   "execution_count": 23,
   "id": "51b86fc0",
   "metadata": {},
   "outputs": [
    {
     "name": "stdout",
     "output_type": "stream",
     "text": [
      "posix\n"
     ]
    }
   ],
   "source": [
    "print(os.name)"
   ]
  },
  {
   "cell_type": "code",
   "execution_count": 24,
   "id": "89f9dc0a",
   "metadata": {},
   "outputs": [],
   "source": [
    "def levenshtein(seq1, seq2):\n",
    "    size_x = len(seq1) + 1\n",
    "    size_y = len(seq2) + 1\n",
    " \n",
    "  # defining a zero matrix of size of first string * second string\n",
    "    matrix = np.zeros ((size_x, size_y)) \n",
    " \n",
    "    for x in range(size_x):\n",
    "        matrix [x, 0] = x # row aray with elements of x\n",
    "    for y in range(size_y):\n",
    "        matrix [0, y] = y # column array with elements of y\n",
    "    for x in range(1, size_x):\n",
    "        for y in range(1, size_y):\n",
    "            if seq1[x-1] == seq2[y-1]: # if the alphabets at the postion is same\n",
    "                matrix [x,y] = min(\n",
    "                    matrix[x-1, y] + 1,\n",
    "                    matrix[x-1, y-1],\n",
    "                    matrix[x, y-1] + 1\n",
    "                )\n",
    " \n",
    "            else:         # if the alphabbets at the position are different\n",
    "                matrix [x,y] = min(\n",
    "                    matrix[x-1,y] + 1,\n",
    "                    matrix[x-1,y-1] + 1,\n",
    "                    matrix[x,y-1] + 1\n",
    "                )\n",
    " \n",
    "    # returning the levenshtein distance i.e last element of the matrix\n",
    "    return (matrix[size_x - 1, size_y - 1])\n",
    " "
   ]
  },
  {
   "cell_type": "code",
   "execution_count": 25,
   "id": "b9ff3cc7",
   "metadata": {},
   "outputs": [
    {
     "name": "stdout",
     "output_type": "stream",
     "text": [
      "Enter the percentage of plagiarism allowed\n",
      "15\n"
     ]
    }
   ],
   "source": [
    "  plag = int(input(\"Enter the percentage of plagiarism allowed\\n\"))"
   ]
  },
  {
   "cell_type": "code",
   "execution_count": 15,
   "id": "a9258b26",
   "metadata": {},
   "outputs": [],
   "source": [
    "  k=0\n",
    "  #path1 = input(\"Enter the path of the folder to scan:\\n\")\n",
    "  os.chdir('/media/jayasanka/New Volume/cs/AI/NLP project/plagarism/Untitled Folder/Plagiarism Checker/textfiles')"
   ]
  },
  {
   "cell_type": "code",
   "execution_count": 30,
   "id": "730f9b5b",
   "metadata": {},
   "outputs": [
    {
     "name": "stdout",
     "output_type": "stream",
     "text": [
      "Enter your name: fullcopy\n",
      ":Software engineering is the discipline of designing, creating and maintaining software by applying technologies and practices from computer science, project management, engineering, application domains, interface design, digital assets management and other fields.\n"
     ]
    }
   ],
   "source": [
    "  #enter new answer with name\n",
    "  stuName=str(input(\"Enter your name: \"))\n",
    "  answer=str(input(\":\"))\n",
    "  #save in a text file\n",
    "  f =open(stuName+'.txt',\"w+\")\n",
    "  f.write(answer)\n",
    "  f.close()\n",
    " "
   ]
  },
  {
   "cell_type": "code",
   "execution_count": 31,
   "id": "b3c7fa4b",
   "metadata": {},
   "outputs": [
    {
     "name": "stdout",
     "output_type": "stream",
     "text": [
      "\n",
      "The text files available are :\n",
      "\n",
      "['copy.txt', 'fullcopy.txt', 'jayasanka.txt', 'stu1.txt', 'stu2.txt', 'stu3.txt']\n",
      "\n",
      "\n",
      "For the files copy.txt and fullcopy.txt presentage of plagiarism is  94.44 %  \n",
      "\n",
      "For the files jayasanka.txt and fullcopy.txt presentage of plagiarism is  100.0 %  \n",
      "\n",
      "For the files stu1.txt and fullcopy.txt presentage of plagiarism is  21.120000000000005 %  \n",
      "\n",
      "For the files stu2.txt and fullcopy.txt presentage of plagiarism is  17.92 %  \n",
      "\n",
      "For the files stu3.txt and fullcopy.txt presentage of plagiarism is  24.459999999999994 %  \n",
      "\n"
     ]
    }
   ],
   "source": [
    "\n",
    "  newAnsfile=stuName+'.txt'\n",
    "  #opening all text files within the folder and stores them in an array \n",
    "  myFiles = glob.glob('*.txt') \n",
    "  print(\"\\nThe text files available are :\\n\")\n",
    "  print(myFiles)\n",
    "  print(\"\\n\")\n",
    "\n",
    "  newAns=0\n",
    "  for x in range(len(myFiles)):\n",
    "        if myFiles[x]==newAnsfile:\n",
    "            newAns=x\n",
    "            \n",
    "  with open(myFiles[newAns], 'r') as file:\n",
    "          data = file.read().replace('\\n', '')\n",
    "          str1=data.replace(' ', '')\n",
    "    \n",
    "  for i in range(len(myFiles)):\n",
    "    with open(myFiles[i], 'r') as file:\n",
    "        data = file.read().replace('\\n', '')\n",
    "        str2=data.replace(' ', '')\n",
    " \n",
    "    if(len(str1)>len(str2)):\n",
    "          length=len(str1)\n",
    "    else:\n",
    "          length=len(str2)\n",
    "            \n",
    "    if (myFiles[i] != myFiles[newAns]):\n",
    "        n = 100-round((levenshtein(str1,str2)/length)*100,2)\n",
    "        if(n>plag):\n",
    "          print(\"For the files\",myFiles[i],\"and\",myFiles[newAns],\"presentage of plagiarism is \",n,\"%  \\n\")         \n",
    "          k = k+1\n",
    "  \n",
    "  if k == 0:\n",
    "    print(\"No documents are plagiarised\")"
   ]
  },
  {
   "cell_type": "code",
   "execution_count": null,
   "id": "9d28ee88",
   "metadata": {},
   "outputs": [],
   "source": []
  }
 ],
 "metadata": {
  "kernelspec": {
   "display_name": "Python 3",
   "language": "python",
   "name": "python3"
  },
  "language_info": {
   "codemirror_mode": {
    "name": "ipython",
    "version": 3
   },
   "file_extension": ".py",
   "mimetype": "text/x-python",
   "name": "python",
   "nbconvert_exporter": "python",
   "pygments_lexer": "ipython3",
   "version": "3.8.5"
  }
 },
 "nbformat": 4,
 "nbformat_minor": 5
}
